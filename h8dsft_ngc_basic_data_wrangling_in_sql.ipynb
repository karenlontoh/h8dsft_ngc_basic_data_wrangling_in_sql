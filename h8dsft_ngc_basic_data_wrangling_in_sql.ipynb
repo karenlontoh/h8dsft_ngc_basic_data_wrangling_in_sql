{
 "cells": [
  {
   "cell_type": "markdown",
   "metadata": {},
   "source": [
    "# Non Graded Challenge 5"
   ]
  },
  {
   "cell_type": "markdown",
   "metadata": {},
   "source": [
    "Nama  : Karmenia Ditabaya Lontoh\n",
    "\n",
    "Batch : HCK-21"
   ]
  },
  {
   "cell_type": "markdown",
   "metadata": {},
   "source": [
    "```sql\n",
    "-- Membuat table Customers\n",
    "CREATE TABLE Customers(\n",
    "\tcustomer_id SERIAL PRIMARY KEY,\n",
    "\tcustomer_name VARCHAR (255),\n",
    "\tcity VARCHAR (255)\n",
    ");\n",
    "\n",
    "-- Membuat table Orders\n",
    "CREATE TABLE Orders(\n",
    "\torder_id SERIAL PRIMARY KEY,\n",
    "\tcustomer_id INTEGER,\n",
    "\torder_date DATE,\n",
    "\ttotal_amount FLOAT\n",
    ");\n",
    "\n",
    "-- Insert data customer ke table Customers\n",
    "INSERT INTO Customers (customer_name, city) \n",
    "VALUES\n",
    "\t('John Doe', 'New York'),\n",
    "\t('Jane Smith', 'Los Angeles'),\n",
    "\t('David Johnson', 'Chicago');\n",
    "\n",
    "-- Insert data order ke table Orders\n",
    "INSERT INTO Orders (customer_id, order_date, total_amount) \n",
    "VALUES\n",
    "\t(1, '2022-01-10', 100),\n",
    "\t(1, '2022-02-15', 150),\n",
    "\t(2, '2022-03-20', 200),\n",
    "\t(3, '2022-04-25', 50);\n",
    "\n",
    "-- Query untuk menarik data total order untuk setiap customer\n",
    "-- Menggunakan COUNT untuk hitung berapa order_id\n",
    "-- Menggunakan LEFT JOIN untuk join table customer dengan order dimana customer_id dari masing2 tabel adalah sama\n",
    "-- Menggunakan GROUP BY customer_name dan customer_id \n",
    "-- Menggunakan ORDER BY untuk sorting output berdasarkan customer_id\n",
    "SELECT \n",
    "\tc.customer_name, \n",
    "\tCOUNT(order_id) AS total_orders\n",
    "FROM Customers c \n",
    "\tLEFT JOIN Orders o ON c.customer_id = o.customer_id\n",
    "GROUP BY customer_name, c.customer_id\n",
    "ORDER BY c.customer_id\n",
    "```"
   ]
  },
  {
   "cell_type": "markdown",
   "metadata": {},
   "source": []
  }
 ],
 "metadata": {
  "language_info": {
   "name": "python"
  }
 },
 "nbformat": 4,
 "nbformat_minor": 2
}
